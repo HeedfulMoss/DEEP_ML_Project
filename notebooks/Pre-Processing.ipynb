{
 "cells": [
  {
   "cell_type": "code",
   "execution_count": 1,
   "id": "d0b4c367-d830-4834-be7e-b97d7c6eae38",
   "metadata": {
    "jupyter": {
     "source_hidden": true
    }
   },
   "outputs": [
    {
     "name": "stdout",
     "output_type": "stream",
     "text": [
      "..\\data\\extracted\\D_ICD_DIAGNOSES.csv\n",
      "..\\data\\extracted\\DIAGNOSES_ICD.csv\n",
      "..\\data\\extracted\\NOTEEVENTS.csv\n"
     ]
    }
   ],
   "source": [
    "import os\n",
    "import pandas as pd\n",
    "import duckdb\n",
    "from pathlib import Path\n",
    "\n",
    "# username = os.getlogin()  # Works locally\n",
    "# desc_path = os.path.join(\"C:\\\\Users\", username, \"Documents\", \"GitHub\", \n",
    "#                          \"DEEP_ML_Project\", \"data\", \"extracted\" , \"D_ICD_DIAGNOSES.csv\")\n",
    "# diag_path = os.path.join(\"C:\\\\Users\", username, \"Documents\", \"GitHub\", \n",
    "#                          \"DEEP_ML_Project\", \"data\", \"extracted\" , \"DIAGNOSES_ICD.csv\")\n",
    "# notes_path = os.path.join(\"C:\\\\Users\", username, \"Documents\", \"GitHub\", \n",
    "#                          \"DEEP_ML_Project\", \"data\", \"extracted\" , \"NOTEEVENTS.csv\")\n",
    "\n",
    "extracted_dir = Path(\"../data/extracted\")\n",
    "desc_path = extracted_dir / \"D_ICD_DIAGNOSES.csv\"\n",
    "diag_path = extracted_dir / \"DIAGNOSES_ICD.csv\"\n",
    "notes_path = extracted_dir / \"NOTEEVENTS.csv\"\n",
    "\n",
    "print(desc_path)\n",
    "print(diag_path)\n",
    "print(notes_path)"
   ]
  },
  {
   "cell_type": "code",
   "execution_count": 2,
   "id": "30071181-52d7-48c2-ad7e-d63ac98e1f13",
   "metadata": {
    "jupyter": {
     "source_hidden": true
    }
   },
   "outputs": [
    {
     "data": {
      "text/plain": [
       "<duckdb.duckdb.DuckDBPyConnection at 0x262bdd6b030>"
      ]
     },
     "execution_count": 2,
     "metadata": {},
     "output_type": "execute_result"
    }
   ],
   "source": [
    "# Create an in-memory DuckDB connection\n",
    "con = duckdb.connect(database=':memory:')\n",
    "\n",
    "# Load CSVs directly using DuckDB (efficient for large files)\n",
    "query = f\"\"\"\n",
    "-- Load NOTEEVENTS (discharge summaries only, no known errors)\n",
    "CREATE VIEW noteevents AS\n",
    "SELECT *\n",
    "FROM read_csv_auto('{notes_path}')\n",
    "WHERE category = 'Discharge summary' AND ISERROR IS NULL;\n",
    "\n",
    "-- Load DIAGNOSES_ICD\n",
    "CREATE VIEW diagnoses_icd AS\n",
    "SELECT *\n",
    "FROM read_csv_auto('{diag_path}');\n",
    "\n",
    "-- Load ICD-9 descriptions\n",
    "CREATE VIEW d_icd_diagnoses AS\n",
    "SELECT *\n",
    "FROM read_csv_auto('{desc_path}');\n",
    "\"\"\"\n",
    "\n",
    "# Run the multi-query\n",
    "con.execute(query)"
   ]
  },
  {
   "cell_type": "code",
   "execution_count": 3,
   "id": "01437c52-5866-4114-94ad-2361c6318a17",
   "metadata": {
    "jupyter": {
     "source_hidden": true
    },
    "scrolled": true
   },
   "outputs": [],
   "source": [
    "# Display NOTEEVENTS column names and top 5 rows\n",
    "#print(\"NOTEEVENTS Table Schema:\")\n",
    "#noteevents_schema = con.execute(\"PRAGMA table_info(noteevents);\").fetchdf()\n",
    "#print(noteevents_schema[['name']])  # Display only column names\n",
    "\n",
    "#print(\"\\nTop 5 rows from NOTEEVENTS:\")\n",
    "#noteevents_preview = con.execute(\"SELECT * FROM noteevents LIMIT 5;\").fetchdf()\n",
    "#print(noteevents_preview)"
   ]
  },
  {
   "cell_type": "code",
   "execution_count": 4,
   "id": "ac888b27-410c-46f3-a3c8-3266caf13efa",
   "metadata": {
    "jupyter": {
     "source_hidden": true
    }
   },
   "outputs": [
    {
     "name": "stdout",
     "output_type": "stream",
     "text": [
      "Top codes columns: ['ICD9_CODE', 'count']\n",
      "Descriptions columns: ['ROW_ID', 'ICD9_CODE', 'SHORT_TITLE', 'LONG_TITLE']\n"
     ]
    }
   ],
   "source": [
    "# Get top 20 most frequent ICD-9 codes\n",
    "top_codes_query = f\"\"\"\n",
    "SELECT icd9_code, COUNT(*) as count\n",
    "FROM read_csv_auto('{diag_path}')\n",
    "GROUP BY icd9_code\n",
    "ORDER BY count DESC\n",
    "LIMIT 20;\n",
    "\"\"\"\n",
    "top_codes_df = con.execute(top_codes_query).fetchdf()\n",
    "top_codes = top_codes_df['ICD9_CODE'].tolist()\n",
    "#print(top_codes)\n",
    "\n",
    "# Load ICD-9 descriptions into a DataFrame\n",
    "desc_df = con.execute(\"SELECT * FROM d_icd_diagnoses\").fetchdf()\n",
    "\n",
    "# Optional: check column names\n",
    "print(\"Top codes columns:\", top_codes_df.columns.tolist())\n",
    "print(\"Descriptions columns:\", desc_df.columns.tolist())\n",
    "\n",
    "# Try both UPPER and lowercase just in case\n",
    "count_col = 'COUNT' if 'COUNT' in top_codes_df.columns else 'count'\n",
    "\n",
    "# Merge with description\n",
    "merged_df = pd.merge(top_codes_df, desc_df[['ICD9_CODE', 'LONG_TITLE']], on='ICD9_CODE', how='left')\n",
    "\n",
    "# Sort and print\n",
    "merged_df = merged_df.sort_values(by=count_col, ascending=False).reset_index(drop=True)\n",
    "\n",
    "# for idx, row in merged_df.iterrows():\n",
    "#     print(f\"{idx+1}. Code: {row['ICD9_CODE']} → {row['LONG_TITLE']} → {row[count_col]} instances\")"
   ]
  },
  {
   "cell_type": "code",
   "execution_count": 5,
   "id": "3eddea13-1597-42a0-8532-bfd96ac94509",
   "metadata": {
    "collapsed": true,
    "jupyter": {
     "outputs_hidden": true
    }
   },
   "outputs": [
    {
     "data": {
      "application/vnd.jupyter.widget-view+json": {
       "model_id": "11181cfb10d44026a04d851485b3395c",
       "version_major": 2,
       "version_minor": 0
      },
      "text/plain": [
       "FloatProgress(value=0.0, layout=Layout(width='auto'), style=ProgressStyle(bar_color='black'))"
      ]
     },
     "metadata": {},
     "output_type": "display_data"
    },
    {
     "name": "stdout",
     "output_type": "stream",
     "text": [
      "Base dataset contains 52586 records\n"
     ]
    },
    {
     "data": {
      "application/vnd.jupyter.widget-view+json": {
       "model_id": "c06ceb0f49224e0db3d35fc0cf8f77a4",
       "version_major": 2,
       "version_minor": 0
      },
      "text/plain": [
       "FloatProgress(value=0.0, layout=Layout(width='auto'), style=ProgressStyle(bar_color='black'))"
      ]
     },
     "metadata": {},
     "output_type": "display_data"
    },
    {
     "name": "stdout",
     "output_type": "stream",
     "text": [
      "Code 4019: 20046 patients\n"
     ]
    },
    {
     "data": {
      "application/vnd.jupyter.widget-view+json": {
       "model_id": "83bd70dd7abf441aa11f58a618cb05ef",
       "version_major": 2,
       "version_minor": 0
      },
      "text/plain": [
       "FloatProgress(value=0.0, layout=Layout(width='auto'), style=ProgressStyle(bar_color='black'))"
      ]
     },
     "metadata": {},
     "output_type": "display_data"
    },
    {
     "name": "stdout",
     "output_type": "stream",
     "text": [
      "Code 4280: 12842 patients\n"
     ]
    },
    {
     "data": {
      "application/vnd.jupyter.widget-view+json": {
       "model_id": "264ad38455d44f4ea0b5ce86eed92b39",
       "version_major": 2,
       "version_minor": 0
      },
      "text/plain": [
       "FloatProgress(value=0.0, layout=Layout(width='auto'), style=ProgressStyle(bar_color='black'))"
      ]
     },
     "metadata": {},
     "output_type": "display_data"
    },
    {
     "name": "stdout",
     "output_type": "stream",
     "text": [
      "Code 42731: 12589 patients\n"
     ]
    },
    {
     "data": {
      "application/vnd.jupyter.widget-view+json": {
       "model_id": "06e47d027b284a73b48017966ca3d86e",
       "version_major": 2,
       "version_minor": 0
      },
      "text/plain": [
       "FloatProgress(value=0.0, layout=Layout(width='auto'), style=ProgressStyle(bar_color='black'))"
      ]
     },
     "metadata": {},
     "output_type": "display_data"
    },
    {
     "name": "stdout",
     "output_type": "stream",
     "text": [
      "Code 41401: 12178 patients\n"
     ]
    },
    {
     "data": {
      "application/vnd.jupyter.widget-view+json": {
       "model_id": "5e163534e0af41eca18e315f9f0d0977",
       "version_major": 2,
       "version_minor": 0
      },
      "text/plain": [
       "FloatProgress(value=0.0, layout=Layout(width='auto'), style=ProgressStyle(bar_color='black'))"
      ]
     },
     "metadata": {},
     "output_type": "display_data"
    },
    {
     "name": "stdout",
     "output_type": "stream",
     "text": [
      "Code 5849: 8906 patients\n"
     ]
    },
    {
     "data": {
      "application/vnd.jupyter.widget-view+json": {
       "model_id": "acf6c45eb760448ca5fdbd159b775086",
       "version_major": 2,
       "version_minor": 0
      },
      "text/plain": [
       "FloatProgress(value=0.0, layout=Layout(width='auto'), style=ProgressStyle(bar_color='black'))"
      ]
     },
     "metadata": {},
     "output_type": "display_data"
    },
    {
     "name": "stdout",
     "output_type": "stream",
     "text": [
      "Code 25000: 8783 patients\n"
     ]
    },
    {
     "data": {
      "application/vnd.jupyter.widget-view+json": {
       "model_id": "3ecaad2507b34082a240f00102c0b171",
       "version_major": 2,
       "version_minor": 0
      },
      "text/plain": [
       "FloatProgress(value=0.0, layout=Layout(width='auto'), style=ProgressStyle(bar_color='black'))"
      ]
     },
     "metadata": {},
     "output_type": "display_data"
    },
    {
     "name": "stdout",
     "output_type": "stream",
     "text": [
      "Code 2724: 8503 patients\n"
     ]
    },
    {
     "data": {
      "application/vnd.jupyter.widget-view+json": {
       "model_id": "e934893bfd6446938f2260939ca7b15f",
       "version_major": 2,
       "version_minor": 0
      },
      "text/plain": [
       "FloatProgress(value=0.0, layout=Layout(width='auto'), style=ProgressStyle(bar_color='black'))"
      ]
     },
     "metadata": {},
     "output_type": "display_data"
    },
    {
     "name": "stdout",
     "output_type": "stream",
     "text": [
      "Code 51881: 7249 patients\n"
     ]
    },
    {
     "data": {
      "application/vnd.jupyter.widget-view+json": {
       "model_id": "2755499f2e6b497ab553db784f653dd9",
       "version_major": 2,
       "version_minor": 0
      },
      "text/plain": [
       "FloatProgress(value=0.0, layout=Layout(width='auto'), style=ProgressStyle(bar_color='black'))"
      ]
     },
     "metadata": {},
     "output_type": "display_data"
    },
    {
     "name": "stdout",
     "output_type": "stream",
     "text": [
      "Code 5990: 6442 patients\n"
     ]
    },
    {
     "data": {
      "application/vnd.jupyter.widget-view+json": {
       "model_id": "549af57bfab04ec4a6b978311bc007c5",
       "version_major": 2,
       "version_minor": 0
      },
      "text/plain": [
       "FloatProgress(value=0.0, layout=Layout(width='auto'), style=ProgressStyle(bar_color='black'))"
      ]
     },
     "metadata": {},
     "output_type": "display_data"
    },
    {
     "name": "stdout",
     "output_type": "stream",
     "text": [
      "Code 53081: 6154 patients\n"
     ]
    },
    {
     "data": {
      "application/vnd.jupyter.widget-view+json": {
       "model_id": "4a96414695b84499b57027f79ef19562",
       "version_major": 2,
       "version_minor": 0
      },
      "text/plain": [
       "FloatProgress(value=0.0, layout=Layout(width='auto'), style=ProgressStyle(bar_color='black'))"
      ]
     },
     "metadata": {},
     "output_type": "display_data"
    },
    {
     "name": "stdout",
     "output_type": "stream",
     "text": [
      "Code 2720: 5766 patients\n"
     ]
    },
    {
     "data": {
      "application/vnd.jupyter.widget-view+json": {
       "model_id": "0693acc1c916465ca4dd969335658492",
       "version_major": 2,
       "version_minor": 0
      },
      "text/plain": [
       "FloatProgress(value=0.0, layout=Layout(width='auto'), style=ProgressStyle(bar_color='black'))"
      ]
     },
     "metadata": {},
     "output_type": "display_data"
    },
    {
     "name": "stdout",
     "output_type": "stream",
     "text": [
      "Code V053: 2119 patients\n"
     ]
    },
    {
     "data": {
      "application/vnd.jupyter.widget-view+json": {
       "model_id": "816aa7f59923431b9f0af8d71c93fa29",
       "version_major": 2,
       "version_minor": 0
      },
      "text/plain": [
       "FloatProgress(value=0.0, layout=Layout(width='auto'), style=ProgressStyle(bar_color='black'))"
      ]
     },
     "metadata": {},
     "output_type": "display_data"
    },
    {
     "name": "stdout",
     "output_type": "stream",
     "text": [
      "Code V290: 2529 patients\n"
     ]
    },
    {
     "data": {
      "application/vnd.jupyter.widget-view+json": {
       "model_id": "2bf3671c84b847028991252f7174ddd9",
       "version_major": 2,
       "version_minor": 0
      },
      "text/plain": [
       "FloatProgress(value=0.0, layout=Layout(width='auto'), style=ProgressStyle(bar_color='black'))"
      ]
     },
     "metadata": {},
     "output_type": "display_data"
    },
    {
     "name": "stdout",
     "output_type": "stream",
     "text": [
      "Code 2859: 5295 patients\n"
     ]
    },
    {
     "data": {
      "application/vnd.jupyter.widget-view+json": {
       "model_id": "7d9f4ea89b5b4af4b90c204402224173",
       "version_major": 2,
       "version_minor": 0
      },
      "text/plain": [
       "FloatProgress(value=0.0, layout=Layout(width='auto'), style=ProgressStyle(bar_color='black'))"
      ]
     },
     "metadata": {},
     "output_type": "display_data"
    },
    {
     "name": "stdout",
     "output_type": "stream",
     "text": [
      "Code 2449: 4785 patients\n"
     ]
    },
    {
     "data": {
      "application/vnd.jupyter.widget-view+json": {
       "model_id": "fafd40a4fc4343a3a350934e3fc3195f",
       "version_major": 2,
       "version_minor": 0
      },
      "text/plain": [
       "FloatProgress(value=0.0, layout=Layout(width='auto'), style=ProgressStyle(bar_color='black'))"
      ]
     },
     "metadata": {},
     "output_type": "display_data"
    },
    {
     "name": "stdout",
     "output_type": "stream",
     "text": [
      "Code 486: 4732 patients\n"
     ]
    },
    {
     "data": {
      "application/vnd.jupyter.widget-view+json": {
       "model_id": "c4a6eaaefb734090adb9757ae5e28bb2",
       "version_major": 2,
       "version_minor": 0
      },
      "text/plain": [
       "FloatProgress(value=0.0, layout=Layout(width='auto'), style=ProgressStyle(bar_color='black'))"
      ]
     },
     "metadata": {},
     "output_type": "display_data"
    },
    {
     "name": "stdout",
     "output_type": "stream",
     "text": [
      "Code 2851: 4499 patients\n"
     ]
    },
    {
     "data": {
      "application/vnd.jupyter.widget-view+json": {
       "model_id": "40afe9b390504481ac6635eb70abefb7",
       "version_major": 2,
       "version_minor": 0
      },
      "text/plain": [
       "FloatProgress(value=0.0, layout=Layout(width='auto'), style=ProgressStyle(bar_color='black'))"
      ]
     },
     "metadata": {},
     "output_type": "display_data"
    },
    {
     "name": "stdout",
     "output_type": "stream",
     "text": [
      "Code 2762: 4358 patients\n"
     ]
    },
    {
     "data": {
      "application/vnd.jupyter.widget-view+json": {
       "model_id": "2515aace9cdd44408e777521c3f92db9",
       "version_major": 2,
       "version_minor": 0
      },
      "text/plain": [
       "FloatProgress(value=0.0, layout=Layout(width='auto'), style=ProgressStyle(bar_color='black'))"
      ]
     },
     "metadata": {},
     "output_type": "display_data"
    },
    {
     "name": "stdout",
     "output_type": "stream",
     "text": [
      "Code 496: 4296 patients\n"
     ]
    },
    {
     "data": {
      "application/vnd.jupyter.widget-view+json": {
       "model_id": "a16f6b616229434caa008056e855ed20",
       "version_major": 2,
       "version_minor": 0
      },
      "text/plain": [
       "FloatProgress(value=0.0, layout=Layout(width='auto'), style=ProgressStyle(bar_color='black'))"
      ]
     },
     "metadata": {},
     "output_type": "display_data"
    },
    {
     "name": "stdout",
     "output_type": "stream",
     "text": [
      "Code 99592: 3792 patients\n"
     ]
    }
   ],
   "source": [
    "# Create a base query to get patient and note data\n",
    "base_query = f\"\"\"\n",
    "SELECT DISTINCT\n",
    "    n.subject_id,\n",
    "    n.hadm_id,\n",
    "FROM read_csv_auto('{notes_path}') n\n",
    "JOIN read_csv_auto('{diag_path}') d\n",
    "  ON n.subject_id = d.subject_id AND n.hadm_id = d.hadm_id\n",
    "WHERE n.category = 'Discharge summary'\n",
    "  AND d.icd9_code IN ('{(\"', '\").join(top_codes)}')\n",
    "\"\"\"\n",
    "\n",
    "# Execute base query to get patient and note data\n",
    "base_results = con.execute(base_query).fetchdf()\n",
    "print(f\"Base dataset contains {len(base_results)} records\")\n",
    "\n",
    "# Create a dictionary to store diagnosis data for each patient\n",
    "diagnosis_data = {}\n",
    "\n",
    "# For each of the top ICD-9 codes, get all patients that have this code\n",
    "for code in top_codes:\n",
    "    code_query = f\"\"\"\n",
    "    SELECT DISTINCT\n",
    "        n.subject_id,\n",
    "        n.hadm_id\n",
    "    FROM read_csv_auto('{notes_path}') n\n",
    "    JOIN read_csv_auto('{diag_path}') d\n",
    "      ON n.subject_id = d.subject_id AND n.hadm_id = d.hadm_id\n",
    "    WHERE n.category = 'Discharge summary'\n",
    "      AND d.icd9_code = '{code}'\n",
    "    \"\"\"\n",
    "    \n",
    "    # Get all patients with this code\n",
    "    code_results = con.execute(code_query).fetchdf()\n",
    "    \n",
    "    # Create a unique key for each patient admission\n",
    "    code_results['key'] = code_results['SUBJECT_ID'].astype(str) + '_' + code_results['HADM_ID'].astype(str)\n",
    "    patient_keys = set(code_results['key'])\n",
    "    \n",
    "    # Store this data\n",
    "    diagnosis_data[code] = patient_keys\n",
    "    \n",
    "    print(f\"Code {code}: {len(patient_keys)} patients\")\n",
    "\n",
    "# Create one-hot encoding columns\n",
    "for code in top_codes:\n",
    "    base_results[f'ICD9_{code}'] = 0\n",
    "    \n",
    "# Create a unique key for each patient admission in the base dataset\n",
    "base_results['key'] = base_results['SUBJECT_ID'].astype(str) + '_' + base_results['HADM_ID'].astype(str)\n",
    "\n",
    "# Populate the one-hot encoding columns\n",
    "for code, patient_keys in diagnosis_data.items():\n",
    "    code_column = f'ICD9_{code}'\n",
    "    \n",
    "    # Set 1 for patients that have this diagnosis\n",
    "    base_results.loc[base_results['key'].isin(patient_keys), code_column] = 1"
   ]
  },
  {
   "cell_type": "code",
   "execution_count": 12,
   "id": "c0c17a00-f318-425f-bef2-586ef5165886",
   "metadata": {},
   "outputs": [
    {
     "data": {
      "application/vnd.jupyter.widget-view+json": {
       "model_id": "2eb1f71f4dde4c90ac6c15c5546de306",
       "version_major": 2,
       "version_minor": 0
      },
      "text/plain": [
       "FloatProgress(value=0.0, layout=Layout(width='auto'), style=ProgressStyle(bar_color='black'))"
      ]
     },
     "metadata": {},
     "output_type": "display_data"
    }
   ],
   "source": [
    "# Join, filter for discharge notes, keep only top codes\n",
    "fetch_query = f\"\"\"\n",
    "WITH joined AS (\n",
    "    SELECT \n",
    "        n.subject_id,\n",
    "        n.hadm_id,\n",
    "        n.text AS summary_snippet,\n",
    "        d.icd9_code,\n",
    "        icd.long_title\n",
    "    FROM read_csv_auto('{notes_path}') n\n",
    "    JOIN read_csv_auto('{diag_path}') d\n",
    "      ON n.subject_id = d.subject_id AND n.hadm_id = d.hadm_id\n",
    "    JOIN read_csv_auto('{desc_path}') icd\n",
    "      ON d.icd9_code = icd.icd9_code\n",
    "    WHERE n.category = 'Discharge summary'\n",
    "      AND d.icd9_code IN ('{(\"', '\").join(top_codes)}')\n",
    ")\n",
    "SELECT \n",
    "    subject_id,\n",
    "    hadm_id,\n",
    "    MAX(summary_snippet) AS summary_snippet,  -- Use MAX to get a consistent snippet\n",
    "    STRING_AGG(icd9_code, ', ') AS icd9_codes,\n",
    "    STRING_AGG(long_title, '; ') AS diagnoses,\n",
    "    COUNT(icd9_code) AS code_count\n",
    "FROM joined\n",
    "GROUP BY subject_id, hadm_id\n",
    "\"\"\"\n",
    "diagnoses_df = con.execute(fetch_query).fetchdf()\n",
    "\n",
    "# Add diagnosis text fields and full summary text\n",
    "diagnoses_df['key'] = diagnoses_df['SUBJECT_ID'].astype(str) + '_' + diagnoses_df['HADM_ID'].astype(str)\n",
    "\n",
    "# Join the full data to the base results\n",
    "base_results['key'] = base_results['SUBJECT_ID'].astype(str) + '_' + base_results['HADM_ID'].astype(str)\n",
    "base_results = base_results.join(\n",
    "    diagnoses_df.set_index('key')[['summary_snippet', 'icd9_codes', 'diagnoses', 'code_count']], \n",
    "    on='key'\n",
    ")\n",
    "\n",
    "# Join the full data to the base results\n",
    "base_results['key'] = base_results['SUBJECT_ID'].astype(str) + '_' + base_results['HADM_ID'].astype(str)\n",
    "base_results = base_results.join(\n",
    "    diagnoses_df.set_index('key')[['summary_snippet', 'icd9_codes', 'diagnoses', 'code_count']], \n",
    "    on='key'\n",
    ")\n",
    "\n",
    "\n",
    "# Remove the temporary key column\n",
    "results = base_results.drop(columns=['key'])\n"
   ]
  },
  {
   "cell_type": "code",
   "execution_count": 13,
   "id": "bef6f432-6a0a-4e1e-a891-a41d4a3829fc",
   "metadata": {
    "jupyter": {
     "source_hidden": true
    },
    "scrolled": true
   },
   "outputs": [],
   "source": [
    "# #Print the results of the summary and which codes were assocated with it Example\n",
    "# print(results.loc[5, 'summary_snippet'])\n",
    "# print(\"-\" * 20)  # Separator for clarity\n",
    "\n",
    "# icd9_codes = results.loc[1, 'icd9_codes'].split(', ')\n",
    "# diagnoses = results.loc[1, 'diagnoses'].split('; ')\n",
    "\n",
    "# for i in range(min(len(icd9_codes), len(diagnoses))):\n",
    "#   print(f\"{icd9_codes[i]} --> {diagnoses[i]}\")\n",
    "\n",
    "# # handling the case where icd9_codes and diagnoses are different lengths.\n",
    "# if len(icd9_codes) > len(diagnoses):\n",
    "#     for i in range(len(diagnoses), len(icd9_codes)):\n",
    "#         print(f\"{icd9_codes[i]} --> No corresponding diagnosis\")\n",
    "# elif len(diagnoses) > len(icd9_codes):\n",
    "#     for i in range(len(icd9_codes), len(diagnoses)):\n",
    "#         print(f\"No corresponding ICD9 --> {diagnoses[i]}\")\n"
   ]
  },
  {
   "cell_type": "code",
   "execution_count": 11,
   "id": "5d23fd52-363d-4ca3-8a61-990494873ad8",
   "metadata": {},
   "outputs": [
    {
     "name": "stdout",
     "output_type": "stream",
     "text": [
      "Full training results exported to: ..\\data\\preprocessed\\summary_results.csv\n",
      "Trimmed training results exported to: ..\\data\\preprocessed\\summary_results_trimmed.csv\n"
     ]
    }
   ],
   "source": [
    "# Export results to CSV\n",
    "#summary_results_path = os.path.join(\"C:\\\\Users\", username, \"Documents\", \"GitHub\", \"DEEP_ML_Project\", \"data\", \"preprocessed\", \"summary_results.csv\")\n",
    "#summary_results_trimmed_path = os.path.join(\"C:\\\\Users\", username, \"Documents\", \"GitHub\", \"DEEP_ML_Project\", \"data\", \"preprocessed\", \"summary_results_trimmed.csv\")\n",
    "\n",
    "preprocessed_dir = Path(\"../data/preprocessed\")\n",
    "preprocessed_dir.mkdir(parents=True, exist_ok=True)\n",
    "\n",
    "summary_results_path = preprocessed_dir / \"summary_results.csv\"\n",
    "summary_results_trimmed_path = preprocessed_dir / \"summary_results_trimmed.csv\"\n",
    "\n",
    "results.iloc[:-20].to_csv(summary_results_path, index=False)\n",
    "results.iloc[-20:].to_csv(summary_results_trimmed_path, index=False)\n",
    "\n",
    "print(f\"Full training results exported to: {summary_results_path}\")\n",
    "print(f\"Trimmed training results exported to: {summary_results_trimmed_path}\")"
   ]
  },
  {
   "cell_type": "code",
   "execution_count": null,
   "id": "c28fdb1a-faa8-48a1-b057-07ca4b6c08ba",
   "metadata": {
    "jupyter": {
     "source_hidden": true
    }
   },
   "outputs": [],
   "source": [
    "# # Sample JOIN query to fetch ICD-9 + Discharge Summary\n",
    "# fetch_query = f\"\"\"\n",
    "# SELECT \n",
    "#     n.subject_id,\n",
    "#     n.hadm_id,\n",
    "#     SUBSTRING(n.text, 1, 4000) AS summary_snippet,\n",
    "#     STRING_AGG(d.icd9_code, ', ') AS icd9_codes,\n",
    "#     STRING_AGG(icd.long_title, '; ') AS diagnoses\n",
    "# FROM read_csv_auto('{notes_path}') n\n",
    "# JOIN read_csv_auto('{diag_path}') d\n",
    "#   ON n.subject_id = d.subject_id AND n.hadm_id = d.hadm_id\n",
    "# JOIN read_csv_auto('{desc_path}') icd\n",
    "#   ON d.icd9_code = icd.icd9_code\n",
    "# WHERE n.category = 'Discharge summary'\n",
    "# GROUP BY n.subject_id, n.hadm_id, n.text\n",
    "# # LIMIT 5000;\n",
    "# \"\"\"\n",
    "\n",
    "\n",
    "\n",
    "# # Execute and display results\n",
    "# results = con.execute(fetch_query).fetchdf()\n",
    "# print(results.head(3))  # Show sample output"
   ]
  }
 ],
 "metadata": {
  "kernelspec": {
   "display_name": "Python(venv)",
   "language": "python",
   "name": "venv"
  },
  "language_info": {
   "codemirror_mode": {
    "name": "ipython",
    "version": 3
   },
   "file_extension": ".py",
   "mimetype": "text/x-python",
   "name": "python",
   "nbconvert_exporter": "python",
   "pygments_lexer": "ipython3",
   "version": "3.12.7"
  }
 },
 "nbformat": 4,
 "nbformat_minor": 5
}
