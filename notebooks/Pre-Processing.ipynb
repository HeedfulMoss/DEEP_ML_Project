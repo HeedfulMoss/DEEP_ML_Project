{
 "cells": [
  {
   "cell_type": "code",
   "execution_count": 1,
   "id": "d0b4c367-d830-4834-be7e-b97d7c6eae38",
   "metadata": {},
   "outputs": [
    {
     "name": "stdout",
     "output_type": "stream",
     "text": [
      "..\\data\\extracted\\D_ICD_DIAGNOSES.csv\n",
      "..\\data\\extracted\\DIAGNOSES_ICD.csv\n",
      "..\\data\\extracted\\NOTEEVENTS.csv\n"
     ]
    }
   ],
   "source": [
    "import os\n",
    "import pandas as pd\n",
    "import duckdb\n",
    "from pathlib import Path\n",
    "from sklearn.model_selection import train_test_split\n",
    "\n",
    "\n",
    "# username = os.getlogin()  # Works locally\n",
    "# desc_path = os.path.join(\"C:\\\\Users\", username, \"Documents\", \"GitHub\", \n",
    "#                          \"DEEP_ML_Project\", \"data\", \"extracted\" , \"D_ICD_DIAGNOSES.csv\")\n",
    "# diag_path = os.path.join(\"C:\\\\Users\", username, \"Documents\", \"GitHub\", \n",
    "#                          \"DEEP_ML_Project\", \"data\", \"extracted\" , \"DIAGNOSES_ICD.csv\")\n",
    "# notes_path = os.path.join(\"C:\\\\Users\", username, \"Documents\", \"GitHub\", \n",
    "#                          \"DEEP_ML_Project\", \"data\", \"extracted\" , \"NOTEEVENTS.csv\")\n",
    "\n",
    "extracted_dir = Path(\"../data/extracted\")\n",
    "desc_path = extracted_dir / \"D_ICD_DIAGNOSES.csv\"\n",
    "diag_path = extracted_dir / \"DIAGNOSES_ICD.csv\"\n",
    "notes_path = extracted_dir / \"NOTEEVENTS.csv\"\n",
    "\n",
    "print(desc_path)\n",
    "print(diag_path)\n",
    "print(notes_path)"
   ]
  },
  {
   "cell_type": "code",
   "execution_count": 2,
   "id": "30071181-52d7-48c2-ad7e-d63ac98e1f13",
   "metadata": {},
   "outputs": [
    {
     "data": {
      "text/plain": [
       "<duckdb.duckdb.DuckDBPyConnection at 0x1cc4eed91f0>"
      ]
     },
     "execution_count": 2,
     "metadata": {},
     "output_type": "execute_result"
    }
   ],
   "source": [
    "# Create an in-memory DuckDB connection\n",
    "con = duckdb.connect(database=':memory:')\n",
    "\n",
    "# Load CSVs directly using DuckDB (efficient for large files)\n",
    "query = f\"\"\"\n",
    "-- Load NOTEEVENTS (discharge summaries only, no known errors)\n",
    "CREATE VIEW noteevents AS\n",
    "SELECT *\n",
    "FROM read_csv_auto('{notes_path}')\n",
    "WHERE category = 'Discharge summary' AND ISERROR IS NULL;\n",
    "\n",
    "-- Load DIAGNOSES_ICD\n",
    "CREATE VIEW diagnoses_icd AS\n",
    "SELECT *\n",
    "FROM read_csv_auto('{diag_path}');\n",
    "\n",
    "-- Load ICD-9 descriptions\n",
    "CREATE VIEW d_icd_diagnoses AS\n",
    "SELECT *\n",
    "FROM read_csv_auto('{desc_path}');\n",
    "\"\"\"\n",
    "\n",
    "# Run the multi-query\n",
    "con.execute(query)"
   ]
  },
  {
   "cell_type": "code",
   "execution_count": 3,
   "id": "01437c52-5866-4114-94ad-2361c6318a17",
   "metadata": {},
   "outputs": [
    {
     "name": "stdout",
     "output_type": "stream",
     "text": [
      "NOTEEVENTS Table Schema:\n",
      "           name\n",
      "0        ROW_ID\n",
      "1    SUBJECT_ID\n",
      "2       HADM_ID\n",
      "3     CHARTDATE\n",
      "4     CHARTTIME\n",
      "5     STORETIME\n",
      "6      CATEGORY\n",
      "7   DESCRIPTION\n",
      "8          CGID\n",
      "9       ISERROR\n",
      "10         TEXT\n",
      "\n",
      "Top 5 rows from NOTEEVENTS:\n"
     ]
    },
    {
     "data": {
      "application/vnd.jupyter.widget-view+json": {
       "model_id": "f1828b073df94aa088f0765900f2ee13",
       "version_major": 2,
       "version_minor": 0
      },
      "text/plain": [
       "FloatProgress(value=0.0, layout=Layout(width='auto'), style=ProgressStyle(bar_color='black'))"
      ]
     },
     "metadata": {},
     "output_type": "display_data"
    },
    {
     "name": "stdout",
     "output_type": "stream",
     "text": [
      "   ROW_ID  SUBJECT_ID  HADM_ID  CHARTDATE CHARTTIME STORETIME  \\\n",
      "0     174       22532   167853 2151-08-04      None      None   \n",
      "1     175       13702   107527 2118-06-14      None      None   \n",
      "2     176       13702   167118 2119-05-25      None      None   \n",
      "3     177       13702   196489 2124-08-18      None      None   \n",
      "4     178       26880   135453 2162-03-25      None      None   \n",
      "\n",
      "            CATEGORY DESCRIPTION  CGID ISERROR  \\\n",
      "0  Discharge summary      Report  None    None   \n",
      "1  Discharge summary      Report  None    None   \n",
      "2  Discharge summary      Report  None    None   \n",
      "3  Discharge summary      Report  None    None   \n",
      "4  Discharge summary      Report  None    None   \n",
      "\n",
      "                                                TEXT  \n",
      "0  Admission Date:  [**2151-7-16**]       Dischar...  \n",
      "1  Admission Date:  [**2118-6-2**]       Discharg...  \n",
      "2  Admission Date:  [**2119-5-4**]              D...  \n",
      "3  Admission Date:  [**2124-7-21**]              ...  \n",
      "4  Admission Date:  [**2162-3-3**]              D...  \n"
     ]
    }
   ],
   "source": [
    "# Display NOTEEVENTS column names and top 5 rows\n",
    "print(\"NOTEEVENTS Table Schema:\")\n",
    "noteevents_schema = con.execute(\"PRAGMA table_info(noteevents);\").fetchdf()\n",
    "print(noteevents_schema[['name']])  # Display only column names\n",
    "\n",
    "print(\"\\nTop 5 rows from NOTEEVENTS:\")\n",
    "noteevents_preview = con.execute(\"SELECT * FROM noteevents LIMIT 5;\").fetchdf()\n",
    "print(noteevents_preview)"
   ]
  },
  {
   "cell_type": "code",
   "execution_count": 4,
   "id": "ac888b27-410c-46f3-a3c8-3266caf13efa",
   "metadata": {},
   "outputs": [
    {
     "name": "stdout",
     "output_type": "stream",
     "text": [
      "Top codes columns: ['ICD9_CODE', 'count']\n",
      "Descriptions columns: ['ROW_ID', 'ICD9_CODE', 'SHORT_TITLE', 'LONG_TITLE']\n",
      "1. Code: 4019 → Unspecified essential hypertension → 20703 instances\n",
      "2. Code: 4280 → Congestive heart failure, unspecified → 13111 instances\n",
      "3. Code: 42731 → Atrial fibrillation → 12891 instances\n",
      "4. Code: 41401 → Coronary atherosclerosis of native coronary artery → 12429 instances\n",
      "5. Code: 5849 → Acute kidney failure, unspecified → 9119 instances\n",
      "6. Code: 25000 → Diabetes mellitus without mention of complication, type II or unspecified type, not stated as uncontrolled → 9058 instances\n",
      "7. Code: 2724 → Other and unspecified hyperlipidemia → 8690 instances\n",
      "8. Code: 51881 → Acute respiratory failure → 7497 instances\n",
      "9. Code: 5990 → Urinary tract infection, site not specified → 6555 instances\n",
      "10. Code: 53081 → Esophageal reflux → 6326 instances\n",
      "11. Code: 2720 → Pure hypercholesterolemia → 5930 instances\n",
      "12. Code: V053 → Need for prophylactic vaccination and inoculation against viral hepatitis → 5779 instances\n",
      "13. Code: V290 → Observation for suspected infectious condition → 5519 instances\n",
      "14. Code: 2859 → Anemia, unspecified → 5406 instances\n",
      "15. Code: 2449 → Unspecified acquired hypothyroidism → 4917 instances\n",
      "16. Code: 486 → Pneumonia, organism unspecified → 4839 instances\n",
      "17. Code: 2851 → Acute posthemorrhagic anemia → 4552 instances\n",
      "18. Code: 2762 → Acidosis → 4528 instances\n",
      "19. Code: 496 → Chronic airway obstruction, not elsewhere classified → 4431 instances\n",
      "20. Code: 99592 → Severe sepsis → 3912 instances\n"
     ]
    }
   ],
   "source": [
    "# Get top 20 most frequent ICD-9 codes\n",
    "top_codes_query = f\"\"\"\n",
    "SELECT icd9_code, COUNT(*) as count\n",
    "FROM read_csv_auto('{diag_path}')\n",
    "GROUP BY icd9_code\n",
    "ORDER BY count DESC\n",
    "LIMIT 20;\n",
    "\"\"\"\n",
    "top_codes_df = con.execute(top_codes_query).fetchdf()\n",
    "top_codes = top_codes_df['ICD9_CODE'].tolist()\n",
    "#print(top_codes)\n",
    "\n",
    "# Load ICD-9 descriptions into a DataFrame\n",
    "desc_df = con.execute(\"SELECT * FROM d_icd_diagnoses\").fetchdf()\n",
    "\n",
    "# Optional: check column names\n",
    "print(\"Top codes columns:\", top_codes_df.columns.tolist())\n",
    "print(\"Descriptions columns:\", desc_df.columns.tolist())\n",
    "\n",
    "# Try both UPPER and lowercase just in case\n",
    "count_col = 'COUNT' if 'COUNT' in top_codes_df.columns else 'count'\n",
    "\n",
    "# Merge with description\n",
    "merged_df = pd.merge(top_codes_df, desc_df[['ICD9_CODE', 'LONG_TITLE']], on='ICD9_CODE', how='left')\n",
    "\n",
    "# Sort and print\n",
    "merged_df = merged_df.sort_values(by=count_col, ascending=False).reset_index(drop=True)\n",
    "\n",
    "for idx, row in merged_df.iterrows():\n",
    "    print(f\"{idx+1}. Code: {row['ICD9_CODE']} → {row['LONG_TITLE']} → {row[count_col]} instances\")"
   ]
  },
  {
   "cell_type": "code",
   "execution_count": null,
   "id": "c0c17a00-f318-425f-bef2-586ef5165886",
   "metadata": {},
   "outputs": [
    {
     "data": {
      "application/vnd.jupyter.widget-view+json": {
       "model_id": "db86437e90f4494b948fb8228ae312b3",
       "version_major": 2,
       "version_minor": 0
      },
      "text/plain": [
       "FloatProgress(value=0.0, layout=Layout(width='auto'), style=ProgressStyle(bar_color='black'))"
      ]
     },
     "metadata": {},
     "output_type": "display_data"
    },
    {
     "name": "stdout",
     "output_type": "stream",
     "text": [
      "Total matching records: 164048\n"
     ]
    },
    {
     "data": {
      "application/vnd.jupyter.widget-view+json": {
       "model_id": "90df750efaad470bbc391f3362b0a4e6",
       "version_major": 2,
       "version_minor": 0
      },
      "text/plain": [
       "FloatProgress(value=0.0, layout=Layout(width='auto'), style=ProgressStyle(bar_color='black'))"
      ]
     },
     "metadata": {},
     "output_type": "display_data"
    }
   ],
   "source": [
    "# Join, filter for discharge notes, keep only top codes\n",
    "top_codes_str = \"', '\".join(top_codes)\n",
<<<<<<< HEAD
=======
    "# fetch_query = f\"\"\"\n",
    "# WITH joined AS (\n",
    "#     SELECT \n",
    "#         n.subject_id,\n",
    "#         n.hadm_id,\n",
    "#         SUBSTRING(n.text, 1, 5000) AS summary_snippet,\n",
    "#         d.icd9_code,\n",
    "#         icd.long_title\n",
    "#     FROM read_csv_auto('{notes_path}') n\n",
    "#     JOIN read_csv_auto('{diag_path}') d\n",
    "#       ON n.subject_id = d.subject_id AND n.hadm_id = d.hadm_id\n",
    "#     JOIN read_csv_auto('{desc_path}') icd\n",
    "#       ON d.icd9_code = icd.icd9_code\n",
    "#     WHERE n.category = 'Discharge summary'\n",
    "#       AND d.icd9_code IN ('{top_codes_str}')\n",
    "# )\n",
    "# SELECT \n",
    "#     subject_id,\n",
    "#     hadm_id,\n",
    "#     summary_snippet,\n",
    "#     STRING_AGG(icd9_code, ', ') AS icd9_codes,\n",
    "#     STRING_AGG(long_title, '; ') AS diagnoses,\n",
    "#     COUNT(icd9_code) AS code_count\n",
    "# FROM joined\n",
    "# GROUP BY subject_id, hadm_id, summary_snippet\n",
    "# LIMIT 50000;\n",
    "# \"\"\"\n",
    "# results = con.execute(fetch_query).fetchdf()\n",
    "\n",
>>>>>>> ebab38c0981c27ce00b1b81e07ef19748553d44b
    "# Build the shared CTE for joined notes + ICD codes\n",
    "common_cte = f\"\"\"\n",
    "WITH joined AS (\n",
    "  SELECT \n",
    "    n.subject_id,\n",
    "    n.hadm_id,\n",
    "    SUBSTRING(n.text, 1, 5000) AS summary_snippet,\n",
    "    d.icd9_code,\n",
    "    icd.long_title\n",
    "  FROM read_csv_auto('{notes_path}') AS n\n",
    "  JOIN read_csv_auto('{diag_path}') AS d\n",
    "    ON n.subject_id = d.subject_id AND n.hadm_id = d.hadm_id\n",
    "  JOIN read_csv_auto('{desc_path}') AS icd\n",
    "    ON d.icd9_code = icd.icd9_code\n",
    "  WHERE n.category = 'Discharge summary'\n",
    "    AND d.icd9_code IN ('{top_codes_str}')\n",
    ")\n",
    "\"\"\"\n",
    "\n",
    "# 1) Count how many total records we’ll be fetching\n",
    "count_query = common_cte + \"\"\"\n",
    "SELECT COUNT(*) AS total FROM joined;\n",
    "\"\"\"\n",
    "total = con.execute(count_query).fetchone()[0]\n",
    "print(f\"Total matching records: {total}\")\n",
    "\n",
    "# 2) Now fetch *all* of them\n",
    "fetch_query = common_cte + \"\"\"\n",
    "SELECT \n",
    "  subject_id,\n",
    "  hadm_id,\n",
    "  summary_snippet,\n",
    "  STRING_AGG(icd9_code, ', ')    AS icd9_codes,\n",
    "  STRING_AGG(long_title, '; ')   AS diagnoses,\n",
    "  COUNT(icd9_code)               AS code_count\n",
    "FROM joined\n",
    "GROUP BY subject_id, hadm_id, summary_snippet\n",
    "LIMIT {total};\n",
    "\"\"\".format(total=total)\n",
    "\n",
<<<<<<< HEAD
    "results = con.execute(fetch_query).fetchdf()\n"
=======
    "results = con.execute(fetch_query).fetchdf()\n",
    "\n"
>>>>>>> ebab38c0981c27ce00b1b81e07ef19748553d44b
   ]
  },
  {
   "cell_type": "code",
   "execution_count": 10,
   "id": "bc3bb383-0d06-4496-8073-b106369b2fb3",
   "metadata": {},
   "outputs": [
    {
     "name": "stdout",
     "output_type": "stream",
     "text": [
      "   SUBJECT_ID  HADM_ID                                    summary_snippet  \\\n",
      "0       17183   188364  Admission Date:  [**2175-12-3**]     Discharge...   \n",
      "1       13031   153060  Admission Date:  [**2173-11-16**]       Discha...   \n",
      "2        6920   146262  Admission Date:  [**2158-4-25**]       Dischar...   \n",
      "\n",
      "          icd9_codes                                          diagnoses  \\\n",
      "0               4019                 Unspecified essential hypertension   \n",
      "1        25000, 4019  Diabetes mellitus without mention of complicat...   \n",
      "2  2720, 4019, 41401  Pure hypercholesterolemia; Unspecified essenti...   \n",
      "\n",
      "   code_count  \n",
      "0           1  \n",
      "1           2  \n",
      "2           3  \n",
      "52586\n"
     ]
    }
   ],
   "source": [
    "print(results.head(3))  # Show sample output\n",
    "print(len(results))"
   ]
  },
  {
   "cell_type": "code",
   "execution_count": 7,
   "id": "bef6f432-6a0a-4e1e-a891-a41d4a3829fc",
   "metadata": {
    "scrolled": true
   },
   "outputs": [
    {
     "name": "stdout",
     "output_type": "stream",
     "text": [
      "Admission Date:  [**2114-2-23**]     Discharge Date:  [**2114-3-13**]\n",
      "\n",
      "Date of Birth:   [**2082-3-28**]     Sex:  F\n",
      "\n",
      "Service:  MICU\n",
      "\n",
      "CHIEF COMPLAINT:  Transfer for hypercapneic respiratory\n",
      "failure.\n",
      "\n",
      "HISTORY OF PRESENT ILLNESS:  The patient is a morbidly obese\n",
      "31 year old female with a history of asthma (recent admission\n",
      "to outside hospital, no history of intubations), who was in\n",
      "her usual state of health until approximately two weeks prior\n",
      "to admission when she began experiencing increasing shortness\n",
      "of breath at home, not improving with her outpatient asthma\n",
      "medications.  She began using her father's home oxygen.\n",
      "\n",
      "She was admitted to [**Hospital3 1443**] Hospital on [**2114-2-8**].\n",
      "Arterial blood gases on admission revealed pH 7.19, pCO2 of\n",
      "108 and pO2 of 119.  Her bicarbonate level at that time was\n",
      "37.  She was treated with BIPAP, [**Last Name (un) **]-Dur, Solu-Medrol which\n",
      "was switched to Prednisone.  Chest x-ray reportedly was\n",
      "unremarkable at that time.  She improved with treatment and\n",
      "was transferred to [**Hospital1 34648**].\n",
      "\n",
      "Admitted to [**Hospital1 34648**] on [**2114-2-14**], with arterial blood gases of\n",
      "pH of 7.41, pCO2 of 86 and pO2 of 84 on 40% FIO2 face mask.\n",
      "She was aggressively diuresed and plan was for rehabilitation\n",
      "with subsequent follow-up at [**Hospital 34649**] Clinic.  She began to do\n",
      "poorly, however, with increasing shortness of breath and\n",
      "occasional nonproductive cough.  Arterial blood gases showed\n",
      "pH of 7.31, pCO2 of 131 and pO2 of 63 on 90%.  She was placed\n",
      "on BIPAP and unable to be weaned off.\n",
      "\n",
      "Over that time, she denied fever, chills, chest pain,\n",
      "light-headedness, confusion, calf pain.  She was treated with\n",
      "Enoxaparin prophylactically.  She did describe some nasal\n",
      "stuffiness.  She was started on Augmentin for suspected\n",
      "sinusitis and Levaquin was added on [**2114-2-23**], for possible\n",
      "pneumonia when her chest x-ray showed white out of the right\n",
      "lung.  She was transferred to [**Hospital1 188**] at that time for likely tracheostomy.\n",
      "\n",
      "PAST MEDICAL HISTORY:\n",
      "1.  Morbid obesity.\n",
      "2.  Asthma.\n",
      "3.  Anxiety/depression.\n",
      "4.  Question history of thyroid nodule.\n",
      "5.  Echocardiogram in 05/00, shows left atrial enlargement\n",
      "    with an ejection fraction of 60%.\n",
      "\n",
      "MEDICATIONS ON TRANSFER:\n",
      "1.  Levaquin 500 milligrams intravenously q.d.\n",
      "2.  Augmentin 875 milligrams p.o. q.d.\n",
      "3.  Flonase b.i.d.\n",
      "4.  Afrin b.i.d.\n",
      "5.  Multivitamin.\n",
      "6.  Sertraline 50 milligrams p.o. q.h.s.\n",
      "7.  Combivent inhaler q.i.d.\n",
      "8.  Theophylline 300 milligrams p.o. q.d.\n",
      "9.  Guaifenesin 10 milligrams p.r.n.\n",
      "10. Enoxaparin 40 milligrams subcutaneously q12hours.\n",
      "11. Singulair.\n",
      "12. K-Dur.\n",
      "\n",
      "ALLERGIES:  Vicodin and Percocet.\n",
      "\n",
      "SOCIAL HISTORY:  She lives with her parents.  No history of\n",
      "tobacco or alcohol use.\n",
      "\n",
      "PHYSICAL EXAMINATION:  On admission, in general, morbidly\n",
      "obese female with marked respiratory distress speaking in\n",
      "complete sentences and mentally alert.  Head, eyes, ears,\n",
      "nose and throat anicteric sclera.  The pupils are equal,\n",
      "round, and reactive to light and accommodation.  Extraocular\n",
      "movements are intact.  No sinus tenderness.  Mucous membranes\n",
      "are moist with no oral lesions.  The heart is regular rate\n",
      "and rhythm, normal S1 and S2, with a II/VI systolic ejection\n",
      "murmur at the left upper sternal border radiating to the\n",
      "carotids.  Lungs - bilateral crackles two thirds of the way\n",
      "up on the right, half way up on the left.  The abdomen is\n",
      "morbidly obese, soft, nontender, positive bowel sounds.\n",
      "Extremities are warm, 2+ distal pulses bilaterally, no\n",
      "cyanosis, clubbing or edema.\n",
      "\n",
      "LABORATORY DATA:  Arterial blood gases revealed a pH of 7.33,\n",
      "pCO2 116, pO2 70 on 90% FIO2.  Chest x-ray showed white out\n",
      "of the right hemithorax and one half of the way up on the\n",
      "left.  White count 5.8, hematocrit 33.9, platelets 259,000,\n",
      "Sodium 139, potassium 4.1, chloride 84, bicarbonate 53, blood\n",
      "urea nitrogen 10, creatinine 0.4, glucose 93.  Prothrombin\n",
      "time 13.4, partial thromboplastin time 26.5, INR 1.2.\n",
      "\n",
      "HOSPITAL COURSE: The patient was admitted to the Medical\n",
      "Intensive Care Unit and initially she was alternated between\n",
      "100% nonrebreather and BIPAP at 18/8. She was continued on\n",
      "Albuterol and Atrovent nebulizers, Flovent meter dose inhaler\n",
      "and Levofloxacin for a seven day course of empiric treatment\n",
      "for pneumonia.  Over the next two days, her breathing did not\n",
      "improve significantly despite the above measures and in the\n",
      "a.m. of [**2114-2-26**], her pCO2 had climbed to 132, and she was\n",
      "less mentally responsive.  She was then intubated and over\n",
      "the next few hours, she was unable to wean down from 100%\n",
      "FIO2 and was changed to pressure control ventilation for\n",
      "better oxygenation.  She was subsequently weaned down to 50%\n",
      "FIO2.\n",
      "\n",
      "Bronchoscopy on [**2114-2-26**], revealed edematous airways that\n",
      "were collapsible on expiration, however, there was no visible\n",
      "plugging or secretions.  She was evaluated for tracheostomy\n",
      "at the bedside by Doctor [**Last Name (Titles) **], but was felt to be a poor\n",
      "candidate for the bedside procedure secondary to her obesity\n",
      "and high PEEP\n",
      "--------------------\n",
      "25000 --> Diabetes mellitus without mention of complication, type II or unspecified type, not stated as uncontrolled\n",
      "4019 --> Unspecified essential hypertension\n"
     ]
    }
   ],
   "source": [
    "#Print the results of the summary and which codes were assocated with it Example\n",
    "print(results.loc[5, 'summary_snippet'])\n",
    "print(\"-\" * 20)  # Separator for clarity\n",
    "\n",
    "icd9_codes = results.loc[1, 'icd9_codes'].split(', ')\n",
    "diagnoses = results.loc[1, 'diagnoses'].split('; ')\n",
    "\n",
    "for i in range(min(len(icd9_codes), len(diagnoses))):\n",
    "  print(f\"{icd9_codes[i]} --> {diagnoses[i]}\")\n",
    "\n",
    "# handling the case where icd9_codes and diagnoses are different lengths.\n",
    "if len(icd9_codes) > len(diagnoses):\n",
    "    for i in range(len(diagnoses), len(icd9_codes)):\n",
    "        print(f\"{icd9_codes[i]} --> No corresponding diagnosis\")\n",
    "elif len(diagnoses) > len(icd9_codes):\n",
    "    for i in range(len(icd9_codes), len(diagnoses)):\n",
    "        print(f\"No corresponding ICD9 --> {diagnoses[i]}\")\n"
   ]
  },
  {
   "cell_type": "code",
   "execution_count": 8,
   "id": "5d23fd52-363d-4ca3-8a61-990494873ad8",
   "metadata": {},
   "outputs": [
    {
     "name": "stdout",
     "output_type": "stream",
     "text": [
      "Full training results exported to: ..\\data\\preprocessed\\summary_results.csv\n",
      "Trimmed training results exported to: ..\\data\\preprocessed\\summary_results_trimmed.csv\n",
      "52586\n"
     ]
    }
   ],
   "source": [
    "# Export results to CSV\n",
    "#summary_results_path = os.path.join(\"C:\\\\Users\", username, \"Documents\", \"GitHub\", \"DEEP_ML_Project\", \"data\", \"preprocessed\", \"summary_results.csv\")\n",
    "#summary_results_trimmed_path = os.path.join(\"C:\\\\Users\", username, \"Documents\", \"GitHub\", \"DEEP_ML_Project\", \"data\", \"preprocessed\", \"summary_results_trimmed.csv\")\n",
    "\n",
    "preprocessed_dir = Path(\"../data/preprocessed\")\n",
    "preprocessed_dir.mkdir(parents=True, exist_ok=True)\n",
    "\n",
    "summary_results_path = preprocessed_dir / \"summary_results.csv\"\n",
    "summary_results_trimmed_path = preprocessed_dir / \"summary_results_trimmed.csv\"\n",
    "train_df_path = preprocessed_dir / \"train_df.csv\"\n",
    "test_df_path = preprocessed_dir / \"test_df.csv\"\n",
    "\n",
    "# 80% train / 20% test\n",
    "train_df, test_df = train_test_split(\n",
    "    results,\n",
    "    test_size=0.2,\n",
    "    random_state=42,\n",
    "    shuffle=True\n",
    ")\n",
    "\n",
<<<<<<< HEAD
    "results.iloc[:-20].to_csv(summary_results_path, index=False)\n",
    "results.iloc[-20:].to_csv(summary_results_trimmed_path, index=False)\n",
    "\n",
    "print(f\"Full training results exported to: {summary_results_path}\")\n",
    "print(f\"Trimmed training results exported to: {summary_results_trimmed_path}\")\n",
    "print(len(results))"
=======
    "results.to_csv(summary_results_path, index=False)\n",
    "results.iloc[:50].to_csv(summary_results_trimmed_path, index=False)\n",
    "train_df.to_csv(train_df_path,index=False)\n",
    "test_df.to_csv(test_df_path,index=False)\n",
    "\n",
    "print(f\"➡️  Train (80%) → {train_df_path}\")\n",
    "print(f\"➡️  Test  (20%) → {test_df_path}\")\n",
    "\n",
    "print(f\"Full training dataset exported to: {summary_results_path}\")\n",
    "print(f\"Trimmed training dataset exported to: {summary_results_trimmed_path}\")"
>>>>>>> ebab38c0981c27ce00b1b81e07ef19748553d44b
   ]
  },
  {
   "cell_type": "code",
   "execution_count": 9,
   "id": "c28fdb1a-faa8-48a1-b057-07ca4b6c08ba",
   "metadata": {},
   "outputs": [],
   "source": [
    "# # Sample JOIN query to fetch ICD-9 + Discharge Summary\n",
    "# fetch_query = f\"\"\"\n",
    "# SELECT \n",
    "#     n.subject_id,\n",
    "#     n.hadm_id,\n",
    "#     SUBSTRING(n.text, 1, 4000) AS summary_snippet,\n",
    "#     STRING_AGG(d.icd9_code, ', ') AS icd9_codes,\n",
    "#     STRING_AGG(icd.long_title, '; ') AS diagnoses\n",
    "# FROM read_csv_auto('{notes_path}') n\n",
    "# JOIN read_csv_auto('{diag_path}') d\n",
    "#   ON n.subject_id = d.subject_id AND n.hadm_id = d.hadm_id\n",
    "# JOIN read_csv_auto('{desc_path}') icd\n",
    "#   ON d.icd9_code = icd.icd9_code\n",
    "# WHERE n.category = 'Discharge summary'\n",
    "# GROUP BY n.subject_id, n.hadm_id, n.text\n",
    "# # LIMIT 5000;\n",
    "# \"\"\"\n",
    "\n",
    "\n",
    "\n",
    "# # Execute and display results\n",
    "# results = con.execute(fetch_query).fetchdf()\n",
    "# print(results.head(3))  # Show sample output"
   ]
  }
 ],
 "metadata": {
  "kernelspec": {
   "display_name": "Python(venv)",
   "language": "python",
   "name": "venv"
  },
  "language_info": {
   "codemirror_mode": {
    "name": "ipython",
    "version": 3
   },
   "file_extension": ".py",
   "mimetype": "text/x-python",
   "name": "python",
   "nbconvert_exporter": "python",
   "pygments_lexer": "ipython3",
   "version": "3.12.7"
  }
 },
 "nbformat": 4,
 "nbformat_minor": 5
}
